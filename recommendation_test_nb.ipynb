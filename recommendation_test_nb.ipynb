{
 "cells": [
  {
   "cell_type": "code",
   "execution_count": 12,
   "metadata": {},
   "outputs": [],
   "source": [
    "import joblib\n",
    "import json\n",
    "\n",
    "import pandas as pd\n",
    "\n",
    "def loading_data(outliers = True):\n",
    "    \n",
    "    try:\n",
    "        data = joblib.load(\"3_recommendations_for_9974_products.joblib\")\n",
    "    \n",
    "        print(\"Successfuly imported necessary file for recommendation.\")\n",
    "\n",
    "    except:\n",
    "        raise Exception(\"Could not load the necessary dictionary for making recommendations ! Please check the file.\")\n",
    "    \n",
    "    if outliers:\n",
    "        try:\n",
    "            outliers = joblib.load(\"outliers.joblib\")\n",
    "        \n",
    "            print(\"Outliers successfully loaded.\")\n",
    "        \n",
    "        except:\n",
    "            raise Exception(\"Outliers could not loaded successfully.\")\n",
    "            \n",
    "    \n",
    "    return data, outliers\n",
    "        \n",
    "class Recommender:\n",
    "    \n",
    "    def __init__(self, data, outliers, prod_list, n = 3):\n",
    "        \n",
    "        self.data = data\n",
    "        self.outliers = outliers\n",
    "        self.prod_list = prod_list\n",
    "        self.n = n\n",
    "        \n",
    "    # Input Validation : : :\n",
    "\n",
    "    def input_validation(self):\n",
    "        \n",
    "        cart = list(set(self.prod_list))\n",
    "        \n",
    "        for product in cart:\n",
    "            \n",
    "            if product not in self.data.keys():\n",
    "                \n",
    "                cart.remove(product)\n",
    "                \n",
    "                print(f\"{product} is not included in the recommendation dataframe.\", \n",
    "                      \"Removed from the cart list for recommendations.\")\n",
    "                \n",
    "            if product in self.outliers:\n",
    "                \n",
    "                print(f\"{product} is in outliers list. There are no recommendations for them for now !\")\n",
    "                \n",
    "        if len(cart) == 0:\n",
    "            \n",
    "            raise Exception(\"Cart is empty. Please add items for obtaining recommendations.\")\n",
    "            \n",
    "        print(\"Input validation completed.\")\n",
    "            \n",
    "        self.cart = cart\n",
    "            \n",
    "\n",
    "    def recommend(self):\n",
    "    \n",
    "        # recommender metodu yukarda bir input_validation yapıldığını assume ediyor !!! aldığı prod_list parametresi ordan\n",
    "        # çıkmış / valide edilmiş olmalı...\n",
    "        \n",
    "        self.final_recoms = {}\n",
    "        self.prods = []\n",
    "        self.recoms = []\n",
    "        self.scores = []\n",
    "        self.index = []\n",
    "        \n",
    "        for i in range(self.n):\n",
    "        \n",
    "            for product in list(set(self.cart)):\n",
    "            \n",
    "                recommendations = self.data.get(product, \"NA\")\n",
    "            \n",
    "                recom = recommendations.get(i, \"NA\")\n",
    "                score = recommendations.get(f\"score_{i}\", 0)\n",
    "                \n",
    "                self.index.append(i)\n",
    "                self.prods.append(product)\n",
    "                self.recoms.append(recom)\n",
    "                self.scores.append(score)\n",
    "                \n",
    "            i += 1\n",
    "            \n",
    "        self.results = { \"Index\" : self.index, \n",
    "                    \"Products\" : self.prods,\n",
    "                    \"Recommendations\": self.recoms,\n",
    "                    \"Scores\" : self.scores\n",
    "                      }\n",
    "        \n",
    "        df = pd.DataFrame(self.results).set_index(\"Index\")\n",
    "        \n",
    "        # recommendationlar hali hazırda sepette bulunan ürünlerden farklı olsunlar !\n",
    "        \n",
    "        df = df[~df[\"Recommendations\"].isin(list(set(self.cart)))]\n",
    "        \n",
    "        # LIFT SCORE a göre yukardan aşağıya sıralayalım.\n",
    "        \n",
    "        df.sort_values(\"Scores\", ascending = False, inplace = True)\n",
    "        \n",
    "        self.final_recommendations = df.copy()\n",
    "        \n",
    "        df = df[:10][[\"Recommendations\", \"Scores\"]]\n",
    "        \n",
    "\n",
    "        for index,row in df[:10][[\"Recommendations\", \"Scores\"]].iterrows():\n",
    "    \n",
    "            self.final_recoms.update( { row[\"Recommendations\"] : row[\"Scores\"]  } )\n",
    "        \n",
    "        results_json = json.dumps(self.final_recoms, ensure_ascii = False)\n",
    "        \n",
    "        return results_json"
   ]
  },
  {
   "cell_type": "code",
   "execution_count": 6,
   "metadata": {},
   "outputs": [],
   "source": [
    "# test1\n",
    "cart_products_dict = {\"item1\": \"İçim Ayran 1.5 Lt\", \n",
    "   \"item2\" : \"Ülker Bebe Bisküvisi 800 Gr\", \n",
    "   \"item3\" :\"Camsil Matik 750 ml\", \n",
    "   \"item4\": \"Torku Pratiko Baharatlı Tırtıklı Patates 1 kg\", \n",
    "    \"item5\" :\"Malta Erik 500 gr\", \n",
    "    \"item6\": \"İnegöl Köfte 500 gr\", \n",
    "    \"item7\": \"Limon Lamas 500 gr\", \n",
    "    \"item8\" : \"Şeftali Paket 500 gr\"}"
   ]
  },
  {
   "cell_type": "code",
   "execution_count": 63,
   "metadata": {},
   "outputs": [],
   "source": [
    "# test2 \n",
    "cart_products_dict = {\"item1\": \"Vernel Max Yumuşatıcı Konsantre Nergis-Lavanta 1440 Ml\",\n",
    "                      \"item2\" : \"Reis Çiğköftelik Bulgur 1 kg\",\n",
    "                      \"item3\" : \"Garnier Color Naturals 7/0 - Kumral Saç Boyası\",\n",
    "                      \"item4\" : \"Lindt Swiss Tradition 145 g\",\n",
    "                      \"item5\" : \"Pet Craft Kedi Tasması\",\n",
    "                      \"item6\" : \"OGX Yenileyici Argan & Moro mlo Yağlı Şampuan 100 ml\"}"
   ]
  },
  {
   "cell_type": "code",
   "execution_count": 31,
   "metadata": {},
   "outputs": [],
   "source": [
    "# test3 \n",
    "cart_products_dict = {\"item1\" : \"İthal Muz 500 gr\",\n",
    "                      \"item2\" : \"Filiz Makarna Spaghetti 500 Gr\",\n",
    "                      \"item3\" : \"Silen Ultra Kağıt Havlu 12'li\",\n",
    "                      \"item4\" : \"Magnum Mini Cookie & Badem 6'lı\"}"
   ]
  },
  {
   "cell_type": "code",
   "execution_count": 39,
   "metadata": {},
   "outputs": [],
   "source": [
    "# test4\n",
    "cart_products_dict = {\"item1\" : \"Activia Shot Sade 80 Ml\",\n",
    "                      \"item2\" : \"Bal Küpü Toz Şeker 3 kg\"}"
   ]
  },
  {
   "cell_type": "code",
   "execution_count": 47,
   "metadata": {},
   "outputs": [],
   "source": [
    "# test5\n",
    "cart_products_dict = {\"item1\" : \"Kamp CSA 2 Kişilik Çadır Yeşil\",\n",
    "                      \"item2\" : \"Red Tiger Istakoz Kuyruğu 80 gr\",\n",
    "                      \"item3\" : \"SuperFresh Garnitür 570 gr\",\n",
    "                      \"item4\" : \"Fairy Sıvı Bulaşık Deterjanı Limon 400 ml\",\n",
    "                      \"item5\" : \"Ülker İçim Toz Puding Çilekli 125 g\",\n",
    "                      \"item6\" : \"Hacı Şakir Elegan Güzellik Sabunu 4x70 g\",\n",
    "                      \"item7\" : \"Vaseline Jel Krem Baby 100 ML\",\n",
    "                      \"item8\" : \"Milupa Organik Tahıllı Karışık Meyve Püresi 200Gr\",\n",
    "                      \"item9\" : \"Kotex Ultra Dörtlü Normal Hijyenik Ped 28'li\",\n",
    "                      \"item10\" : \"Tivoli Bellezza Şef Bıçağı\"}"
   ]
  },
  {
   "cell_type": "code",
   "execution_count": 64,
   "metadata": {},
   "outputs": [],
   "source": [
    "cart_products = []\n",
    "\n",
    "for key in cart_products_dict.keys():\n",
    "    \n",
    "    cart_products.append(cart_products_dict[key])"
   ]
  },
  {
   "cell_type": "code",
   "execution_count": 65,
   "metadata": {},
   "outputs": [
    {
     "data": {
      "text/plain": [
       "['Vernel Max Yumuşatıcı Konsantre Nergis-Lavanta 1440 Ml',\n",
       " 'Reis Çiğköftelik Bulgur 1 kg',\n",
       " 'Garnier Color Naturals 7/0 - Kumral Saç Boyası',\n",
       " 'Lindt Swiss Tradition 145 g',\n",
       " 'Pet Craft Kedi Tasması',\n",
       " 'OGX Yenileyici Argan & Moro mlo Yağlı Şampuan 100 ml']"
      ]
     },
     "execution_count": 65,
     "metadata": {},
     "output_type": "execute_result"
    }
   ],
   "source": [
    "cart_products"
   ]
  },
  {
   "cell_type": "code",
   "execution_count": 66,
   "metadata": {},
   "outputs": [
    {
     "name": "stdout",
     "output_type": "stream",
     "text": [
      "Successfuly imported necessary file for recommendation.\n",
      "Outliers successfully loaded.\n"
     ]
    }
   ],
   "source": [
    "data, outliers = loading_data(outliers = True)"
   ]
  },
  {
   "cell_type": "code",
   "execution_count": 67,
   "metadata": {},
   "outputs": [],
   "source": [
    "recommender = Recommender(data = data, outliers = outliers, prod_list = cart_products, n = 3)"
   ]
  },
  {
   "cell_type": "code",
   "execution_count": 68,
   "metadata": {},
   "outputs": [
    {
     "name": "stdout",
     "output_type": "stream",
     "text": [
      "Input validation completed.\n"
     ]
    }
   ],
   "source": [
    "recommender.input_validation()"
   ]
  },
  {
   "cell_type": "code",
   "execution_count": 69,
   "metadata": {},
   "outputs": [
    {
     "data": {
      "text/plain": [
       "(6, 6)"
      ]
     },
     "execution_count": 69,
     "metadata": {},
     "output_type": "execute_result"
    }
   ],
   "source": [
    "len(recommender.prod_list) , len(recommender.cart)"
   ]
  },
  {
   "cell_type": "code",
   "execution_count": 70,
   "metadata": {},
   "outputs": [
    {
     "data": {
      "text/plain": [
       "'{\"Lındt Lındor Mılk Balls Cıkolata 200 gr\": 54442.0, \"OGX Orchid Oil Sülfatsız Şampuan 385 ml\": 5444.2, \"Evohe Evohe Lux Kedi Mama Kabı XL\": 2016.3703703703702, \"Bingo Renkli&Beyaz Toz Çamaşır Deterjanı 7 Kg\": 1814.7333333333331, \"Öncü Acı Biber Salçası Cam Kavanoz 700 gr\": 1701.3125, \"Raffaello T15 Çikolata 150 Gr\": 1555.4857142857143, \"Scotch Brite Ultra Konfor Tırnak Koruyucu Sünger 2\\'li\": 1183.5217391304348, \"Whiskas Ördek 4x100 g Yavru Kedi Maması\": 1008.1851851851851, \"Boron Matik 4 Kg Toz Deterjan Beyazlar\": 800.6176470588234, \"Jungle Kedi Çimi Fileli\": 672.1234567901234}'"
      ]
     },
     "execution_count": 70,
     "metadata": {},
     "output_type": "execute_result"
    }
   ],
   "source": [
    "recommender.recommend()"
   ]
  },
  {
   "cell_type": "code",
   "execution_count": 71,
   "metadata": {},
   "outputs": [
    {
     "data": {
      "text/html": [
       "<div>\n",
       "<style scoped>\n",
       "    .dataframe tbody tr th:only-of-type {\n",
       "        vertical-align: middle;\n",
       "    }\n",
       "\n",
       "    .dataframe tbody tr th {\n",
       "        vertical-align: top;\n",
       "    }\n",
       "\n",
       "    .dataframe thead th {\n",
       "        text-align: right;\n",
       "    }\n",
       "</style>\n",
       "<table border=\"1\" class=\"dataframe\">\n",
       "  <thead>\n",
       "    <tr style=\"text-align: right;\">\n",
       "      <th></th>\n",
       "      <th>Products</th>\n",
       "      <th>Recommendations</th>\n",
       "      <th>Scores</th>\n",
       "    </tr>\n",
       "    <tr>\n",
       "      <th>Index</th>\n",
       "      <th></th>\n",
       "      <th></th>\n",
       "      <th></th>\n",
       "    </tr>\n",
       "  </thead>\n",
       "  <tbody>\n",
       "    <tr>\n",
       "      <th>0</th>\n",
       "      <td>Lindt Swiss Tradition 145 g</td>\n",
       "      <td>Lındt Lındor Mılk Balls Cıkolata 200 gr</td>\n",
       "      <td>54442.000000</td>\n",
       "    </tr>\n",
       "    <tr>\n",
       "      <th>0</th>\n",
       "      <td>OGX Yenileyici Argan &amp; Moro mlo Yağlı Şampuan ...</td>\n",
       "      <td>OGX Orchid Oil Sülfatsız Şampuan 385 ml</td>\n",
       "      <td>5444.200000</td>\n",
       "    </tr>\n",
       "    <tr>\n",
       "      <th>0</th>\n",
       "      <td>Pet Craft Kedi Tasması</td>\n",
       "      <td>Evohe Evohe Lux Kedi Mama Kabı XL</td>\n",
       "      <td>2016.370370</td>\n",
       "    </tr>\n",
       "    <tr>\n",
       "      <th>0</th>\n",
       "      <td>Vernel Max Yumuşatıcı Konsantre Nergis-Lavanta...</td>\n",
       "      <td>Bingo Renkli&amp;Beyaz Toz Çamaşır Deterjanı 7 Kg</td>\n",
       "      <td>1814.733333</td>\n",
       "    </tr>\n",
       "    <tr>\n",
       "      <th>0</th>\n",
       "      <td>Reis Çiğköftelik Bulgur 1 kg</td>\n",
       "      <td>Öncü Acı Biber Salçası Cam Kavanoz 700 gr</td>\n",
       "      <td>1701.312500</td>\n",
       "    </tr>\n",
       "    <tr>\n",
       "      <th>1</th>\n",
       "      <td>Lindt Swiss Tradition 145 g</td>\n",
       "      <td>Raffaello T15 Çikolata 150 Gr</td>\n",
       "      <td>1555.485714</td>\n",
       "    </tr>\n",
       "    <tr>\n",
       "      <th>0</th>\n",
       "      <td>Garnier Color Naturals 7/0 - Kumral Saç Boyası</td>\n",
       "      <td>Scotch Brite Ultra Konfor Tırnak Koruyucu Süng...</td>\n",
       "      <td>1183.521739</td>\n",
       "    </tr>\n",
       "    <tr>\n",
       "      <th>1</th>\n",
       "      <td>Pet Craft Kedi Tasması</td>\n",
       "      <td>Whiskas Ördek 4x100 g Yavru Kedi Maması</td>\n",
       "      <td>1008.185185</td>\n",
       "    </tr>\n",
       "    <tr>\n",
       "      <th>1</th>\n",
       "      <td>Vernel Max Yumuşatıcı Konsantre Nergis-Lavanta...</td>\n",
       "      <td>Boron Matik 4 Kg Toz Deterjan Beyazlar</td>\n",
       "      <td>800.617647</td>\n",
       "    </tr>\n",
       "    <tr>\n",
       "      <th>2</th>\n",
       "      <td>Pet Craft Kedi Tasması</td>\n",
       "      <td>Jungle Kedi Çimi Fileli</td>\n",
       "      <td>672.123457</td>\n",
       "    </tr>\n",
       "    <tr>\n",
       "      <th>1</th>\n",
       "      <td>OGX Yenileyici Argan &amp; Moro mlo Yağlı Şampuan ...</td>\n",
       "      <td>Nestle Pure Life 6 x 1 lt</td>\n",
       "      <td>336.061728</td>\n",
       "    </tr>\n",
       "    <tr>\n",
       "      <th>1</th>\n",
       "      <td>Garnier Color Naturals 7/0 - Kumral Saç Boyası</td>\n",
       "      <td>Carrefour Isıl İşlem Görmüş Sucuk 200 gr</td>\n",
       "      <td>223.122951</td>\n",
       "    </tr>\n",
       "    <tr>\n",
       "      <th>1</th>\n",
       "      <td>Reis Çiğköftelik Bulgur 1 kg</td>\n",
       "      <td>Göbek Salata Adet</td>\n",
       "      <td>69.976864</td>\n",
       "    </tr>\n",
       "    <tr>\n",
       "      <th>2</th>\n",
       "      <td>Vernel Max Yumuşatıcı Konsantre Nergis-Lavanta...</td>\n",
       "      <td>NA</td>\n",
       "      <td>0.000000</td>\n",
       "    </tr>\n",
       "    <tr>\n",
       "      <th>2</th>\n",
       "      <td>Lindt Swiss Tradition 145 g</td>\n",
       "      <td>NA</td>\n",
       "      <td>0.000000</td>\n",
       "    </tr>\n",
       "    <tr>\n",
       "      <th>2</th>\n",
       "      <td>OGX Yenileyici Argan &amp; Moro mlo Yağlı Şampuan ...</td>\n",
       "      <td>NA</td>\n",
       "      <td>0.000000</td>\n",
       "    </tr>\n",
       "    <tr>\n",
       "      <th>2</th>\n",
       "      <td>Reis Çiğköftelik Bulgur 1 kg</td>\n",
       "      <td>NA</td>\n",
       "      <td>0.000000</td>\n",
       "    </tr>\n",
       "    <tr>\n",
       "      <th>2</th>\n",
       "      <td>Garnier Color Naturals 7/0 - Kumral Saç Boyası</td>\n",
       "      <td>NA</td>\n",
       "      <td>0.000000</td>\n",
       "    </tr>\n",
       "  </tbody>\n",
       "</table>\n",
       "</div>"
      ],
      "text/plain": [
       "                                                Products  \\\n",
       "Index                                                      \n",
       "0                            Lindt Swiss Tradition 145 g   \n",
       "0      OGX Yenileyici Argan & Moro mlo Yağlı Şampuan ...   \n",
       "0                                 Pet Craft Kedi Tasması   \n",
       "0      Vernel Max Yumuşatıcı Konsantre Nergis-Lavanta...   \n",
       "0                           Reis Çiğköftelik Bulgur 1 kg   \n",
       "1                            Lindt Swiss Tradition 145 g   \n",
       "0         Garnier Color Naturals 7/0 - Kumral Saç Boyası   \n",
       "1                                 Pet Craft Kedi Tasması   \n",
       "1      Vernel Max Yumuşatıcı Konsantre Nergis-Lavanta...   \n",
       "2                                 Pet Craft Kedi Tasması   \n",
       "1      OGX Yenileyici Argan & Moro mlo Yağlı Şampuan ...   \n",
       "1         Garnier Color Naturals 7/0 - Kumral Saç Boyası   \n",
       "1                           Reis Çiğköftelik Bulgur 1 kg   \n",
       "2      Vernel Max Yumuşatıcı Konsantre Nergis-Lavanta...   \n",
       "2                            Lindt Swiss Tradition 145 g   \n",
       "2      OGX Yenileyici Argan & Moro mlo Yağlı Şampuan ...   \n",
       "2                           Reis Çiğköftelik Bulgur 1 kg   \n",
       "2         Garnier Color Naturals 7/0 - Kumral Saç Boyası   \n",
       "\n",
       "                                         Recommendations        Scores  \n",
       "Index                                                                   \n",
       "0                Lındt Lındor Mılk Balls Cıkolata 200 gr  54442.000000  \n",
       "0                OGX Orchid Oil Sülfatsız Şampuan 385 ml   5444.200000  \n",
       "0                      Evohe Evohe Lux Kedi Mama Kabı XL   2016.370370  \n",
       "0          Bingo Renkli&Beyaz Toz Çamaşır Deterjanı 7 Kg   1814.733333  \n",
       "0              Öncü Acı Biber Salçası Cam Kavanoz 700 gr   1701.312500  \n",
       "1                          Raffaello T15 Çikolata 150 Gr   1555.485714  \n",
       "0      Scotch Brite Ultra Konfor Tırnak Koruyucu Süng...   1183.521739  \n",
       "1                Whiskas Ördek 4x100 g Yavru Kedi Maması   1008.185185  \n",
       "1                 Boron Matik 4 Kg Toz Deterjan Beyazlar    800.617647  \n",
       "2                                Jungle Kedi Çimi Fileli    672.123457  \n",
       "1                              Nestle Pure Life 6 x 1 lt    336.061728  \n",
       "1               Carrefour Isıl İşlem Görmüş Sucuk 200 gr    223.122951  \n",
       "1                                      Göbek Salata Adet     69.976864  \n",
       "2                                                     NA      0.000000  \n",
       "2                                                     NA      0.000000  \n",
       "2                                                     NA      0.000000  \n",
       "2                                                     NA      0.000000  \n",
       "2                                                     NA      0.000000  "
      ]
     },
     "execution_count": 71,
     "metadata": {},
     "output_type": "execute_result"
    }
   ],
   "source": [
    "recommender.final_recommendations"
   ]
  },
  {
   "cell_type": "code",
   "execution_count": null,
   "metadata": {},
   "outputs": [],
   "source": []
  },
  {
   "cell_type": "code",
   "execution_count": null,
   "metadata": {},
   "outputs": [],
   "source": []
  },
  {
   "cell_type": "code",
   "execution_count": null,
   "metadata": {},
   "outputs": [],
   "source": []
  },
  {
   "cell_type": "code",
   "execution_count": null,
   "metadata": {},
   "outputs": [],
   "source": []
  }
 ],
 "metadata": {
  "kernelspec": {
   "display_name": "Python 3 (ipykernel)",
   "language": "python",
   "name": "python3"
  },
  "language_info": {
   "codemirror_mode": {
    "name": "ipython",
    "version": 3
   },
   "file_extension": ".py",
   "mimetype": "text/x-python",
   "name": "python",
   "nbconvert_exporter": "python",
   "pygments_lexer": "ipython3",
   "version": "3.8.6"
  }
 },
 "nbformat": 4,
 "nbformat_minor": 4
}
